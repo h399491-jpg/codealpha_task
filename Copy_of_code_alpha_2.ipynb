{
  "cells": [
    {
      "cell_type": "markdown",
      "metadata": {
        "id": "view-in-github",
        "colab_type": "text"
      },
      "source": [
        "<a href=\"https://colab.research.google.com/github/h399491-jpg/codealpha_task/blob/main/Copy_of_code_alpha_2.ipynb\" target=\"_parent\"><img src=\"https://colab.research.google.com/assets/colab-badge.svg\" alt=\"Open In Colab\"/></a>"
      ]
    },
    {
      "cell_type": "code",
      "execution_count": null,
      "metadata": {
        "id": "MpzhkW0__wf1"
      },
      "outputs": [],
      "source": [
        "# STEP 1: Import all required libraries\n",
        "import pandas as pd\n",
        "import numpy as np\n",
        "import matplotlib.pyplot as plt\n",
        "import seaborn as sns\n",
        "from sklearn.model_selection import train_test_split, cross_val_score, GridSearchCV, StratifiedKFold\n",
        "from sklearn.preprocessing import StandardScaler, MinMaxScaler, RobustScaler, LabelEncoder, OneHotEncoder, PolynomialFeatures\n",
        "from sklearn.impute import SimpleImputer, KNNImputer\n",
        "from sklearn.feature_selection import SelectKBest, f_classif, RFECV\n",
        "from sklearn.decomposition import PCA\n",
        "from sklearn.metrics import classification_report, confusion_matrix, roc_curve, auc, precision_recall_curve, accuracy_score, precision_score, recall_score, f1_score, roc_auc_score\n",
        "from sklearn.linear_model import LogisticRegression\n",
        "from sklearn.tree import DecisionTreeClassifier\n",
        "from sklearn.ensemble import RandomForestClassifier, GradientBoostingClassifier, AdaBoostClassifier\n",
        "from sklearn.svm import SVC\n",
        "from sklearn.neighbors import KNeighborsClassifier\n",
        "from sklearn.naive_bayes import GaussianNB\n",
        "from xgboost import XGBClassifier\n",
        "from sklearn.neural_network import MLPClassifier\n",
        "from sklearn.pipeline import Pipeline\n",
        "from sklearn.compose import ColumnTransformer\n",
        "from sklearn.calibration import CalibratedClassifierCV\n",
        "import warnings\n",
        "warnings.filterwarnings('ignore')\n"
      ]
    },
    {
      "cell_type": "code",
      "execution_count": null,
      "metadata": {
        "colab": {
          "base_uri": "https://localhost:8080/"
        },
        "id": "dGAOmKwCAs2g",
        "outputId": "891df821-e7e5-4ab7-f6f7-3bb3a91a73b0"
      },
      "outputs": [
        {
          "name": "stdout",
          "output_type": "stream",
          "text": [
            "✅ Libraries imported successfully!\n"
          ]
        }
      ],
      "source": [
        "# STEP 2: Set up visualization style\n",
        "plt.style.use('seaborn-v0_8')\n",
        "sns.set_palette(\"husl\")\n",
        "print(\"✅ Libraries imported successfully!\")\n"
      ]
    },
    {
      "cell_type": "code",
      "execution_count": null,
      "metadata": {
        "id": "GSDkrkRaAxR8"
      },
      "outputs": [],
      "source": [
        "# STEP 3: Create synthetic credit scoring dataset\n",
        "def generate_credit_data(n_samples=10000):\n",
        "    np.random.seed(42)\n",
        "\n",
        "    # Generate realistic financial data\n",
        "    data = {\n",
        "        'age': np.random.normal(45, 15, n_samples).astype(int),\n",
        "        'income': np.random.lognormal(10.5, 0.8, n_samples),\n",
        "        'debt_to_income_ratio': np.random.beta(2, 5, n_samples) * 2,\n",
        "        'credit_history_length': np.random.gamma(4, 4, n_samples).astype(int),\n",
        "        'number_of_credit_cards': np.random.poisson(3, n_samples),\n",
        "        'missed_payments': np.random.poisson(0.5, n_samples),\n",
        "        'credit_utilization': np.random.beta(2, 4, n_samples),\n",
        "        'loan_amount': np.random.lognormal(9, 0.6, n_samples),\n",
        "        'employment_length': np.random.gamma(3, 4, n_samples).astype(int),\n",
        "        'housing_type': np.random.choice(['Rent', 'Own', 'Mortgage'], n_samples, p=[0.4, 0.3, 0.3]),\n",
        "        'education_level': np.random.choice(['High School', 'Bachelor', 'Master', 'PhD'], n_samples, p=[0.3, 0.4, 0.2, 0.1])\n",
        "    }\n",
        "\n",
        "    df = pd.DataFrame(data)\n",
        "\n",
        "    # Ensure realistic values\n",
        "    df['age'] = df['age'].clip(18, 80)\n",
        "    df['income'] = df['income'].clip(10000, 300000)\n",
        "    df['debt_to_income_ratio'] = df['debt_to_income_ratio'].clip(0, 1.5)\n",
        "    df['credit_history_length'] = df['credit_history_length'].clip(0, 50)\n",
        "    df['missed_payments'] = df['missed_payments'].clip(0, 10)\n",
        "    df['credit_utilization'] = df['credit_utilization'].clip(0, 1)\n",
        "    df['loan_amount'] = df['loan_amount'].clip(1000, 100000)\n",
        "    df['employment_length'] = df['employment_length'].clip(0, 40)\n",
        "\n",
        "    # Introduce missing values (5% missing)\n",
        "    for col in ['income', 'debt_to_income_ratio', 'credit_utilization']:\n",
        "        mask = np.random.random(n_samples) < 0.05\n",
        "        df.loc[mask, col] = np.nan\n",
        "\n",
        "        # Introduce outliers (2% outliers)\n",
        "    for col in ['income', 'loan_amount']:\n",
        "        mask = np.random.random(n_samples) < 0.02\n",
        "        df.loc[mask, col] = df.loc[mask, col] * 5\n",
        "\n",
        "    # Create target variable (creditworthiness)\n",
        "    credit_score = (\n",
        "        np.log(df['income']) * 0.4 +\n",
        "        (1 - df['debt_to_income_ratio']) * 0.3 +\n",
        "        df['credit_history_length'] * 0.1 -\n",
        "        df['missed_payments'] * 0.15 +\n",
        "        (1 - df['credit_utilization']) * 0.05\n",
        "    )\n",
        "\n",
        "    # Add noise\n",
        "    credit_score += np.random.normal(0, 0.2, n_samples)\n",
        "\n",
        "    # Create binary classification (0: Bad, 1: Good)\n",
        "    df['creditworthy'] = (credit_score > credit_score.median()).astype(int)\n",
        "\n",
        "    return df\n",
        "\n"
      ]
    },
    {
      "cell_type": "code",
      "execution_count": null,
      "metadata": {
        "colab": {
          "base_uri": "https://localhost:8080/"
        },
        "id": "5lBlbJSRA-OR",
        "outputId": "c0c14e3f-a541-4afc-cee4-259276b607c9"
      },
      "outputs": [
        {
          "name": "stdout",
          "output_type": "stream",
          "text": [
            "📊 Generating credit scoring dataset...\n",
            "✅ Dataset created with 10000 rows and 12 columns\n",
            "\n",
            "📈 Dataset Overview:\n",
            "Missing values per column:\n",
            "age                         0\n",
            "income                    472\n",
            "debt_to_income_ratio      482\n",
            "credit_history_length       0\n",
            "number_of_credit_cards      0\n",
            "missed_payments             0\n",
            "credit_utilization        480\n",
            "loan_amount                 0\n",
            "employment_length           0\n",
            "housing_type                0\n",
            "education_level             0\n",
            "creditworthy                0\n",
            "dtype: int64\n",
            "\n",
            "Creditworthy distribution:\n",
            "creditworthy\n",
            "0    5680\n",
            "1    4320\n",
            "Name: count, dtype: int64\n",
            "Good credit rate: 43.20%\n"
          ]
        }
      ],
      "source": [
        "# STEP 4: Generate and explore the dataset\n",
        "print(\"📊 Generating credit scoring dataset...\")\n",
        "df = generate_credit_data(10000)\n",
        "print(f\"✅ Dataset created with {df.shape[0]} rows and {df.shape[1]} columns\")\n",
        "\n",
        "print(\"\\n📈 Dataset Overview:\")\n",
        "print(f\"Missing values per column:\")\n",
        "print(df.isnull().sum())\n",
        "print(f\"\\nCreditworthy distribution:\")\n",
        "print(df['creditworthy'].value_counts())\n",
        "print(f\"Good credit rate: {df['creditworthy'].mean():.2%}\")"
      ]
    },
    {
      "cell_type": "code",
      "execution_count": null,
      "metadata": {
        "colab": {
          "base_uri": "https://localhost:8080/"
        },
        "id": "fiqw9ZfABCle",
        "outputId": "f827929c-4c31-4fc5-8667-2dc6f6a41154"
      },
      "outputs": [
        {
          "name": "stdout",
          "output_type": "stream",
          "text": [
            "\n",
            "==================================================\n",
            "STEP 5: EXPLORATORY DATA ANALYSIS\n",
            "==================================================\n",
            "\n",
            "Descriptive Statistics:\n",
            "                age        income  debt_to_income_ratio  \\\n",
            "count  10000.000000  9.528000e+03           9518.000000   \n",
            "mean      44.662500  5.447555e+04              0.568148   \n",
            "std       14.397976  6.241905e+04              0.314969   \n",
            "min       18.000000  1.000000e+04              0.001445   \n",
            "25%       34.000000  2.162882e+04              0.322555   \n",
            "50%       44.000000  3.747797e+04              0.529242   \n",
            "75%       55.000000  6.541266e+04              0.775807   \n",
            "max       80.000000  1.500000e+06              1.500000   \n",
            "\n",
            "       credit_history_length  number_of_credit_cards  missed_payments  \\\n",
            "count            10000.00000            10000.000000     10000.000000   \n",
            "mean                15.48890                2.979800         0.513600   \n",
            "std                  7.97979                1.719618         0.711945   \n",
            "min                  0.00000                0.000000         0.000000   \n",
            "25%                 10.00000                2.000000         0.000000   \n",
            "50%                 14.00000                3.000000         0.000000   \n",
            "75%                 20.00000                4.000000         1.000000   \n",
            "max                 50.00000               14.000000         5.000000   \n",
            "\n",
            "       credit_utilization    loan_amount  employment_length  creditworthy  \n",
            "count         9520.000000   10000.000000       10000.000000  10000.000000  \n",
            "mean             0.331795   10402.871997          11.626500      0.432000  \n",
            "std              0.177442    9282.090366           6.928059      0.495379  \n",
            "min              0.003161    1000.000000           0.000000      0.000000  \n",
            "25%              0.193547    5523.983577           7.000000      0.000000  \n",
            "50%              0.312049    8171.015632          10.000000      0.000000  \n",
            "75%              0.451430   12313.043811          15.000000      1.000000  \n",
            "max              0.933616  245894.258365          40.000000      1.000000  \n"
          ]
        }
      ],
      "source": [
        "# STEP 5: Exploratory Data Analysis\n",
        "print(\"\\n\" + \"=\"*50)\n",
        "print(\"STEP 5: EXPLORATORY DATA ANALYSIS\")\n",
        "print(\"=\"*50)\n",
        "\n",
        "# Basic statistics\n",
        "print(\"\\nDescriptive Statistics:\")\n",
        "print(df.describe())\n"
      ]
    },
    {
      "cell_type": "code",
      "execution_count": null,
      "metadata": {
        "colab": {
          "base_uri": "https://localhost:8080/",
          "height": 755
        },
        "id": "_NOBfkDEBFYe",
        "outputId": "dc856d4a-8e2b-4a90-ba90-20c2230d477a"
      },
      "outputs": [
        {
          "name": "stdout",
          "output_type": "stream",
          "text": [
            "\n",
            "📊 Creating correlation matrix...\n"
          ]
        },
        {
          "data": {
            "image/png": "[encoded data removed]",
            "text/plain": [
              "<Figure size 1200x800 with 2 Axes>"
            ]
          },
          "metadata": {},
          "output_type": "display_data"
        }
      ],
      "source": [
        "# Correlation heatmap\n",
        "print(\"\\n📊 Creating correlation matrix...\")\n",
        "plt.figure(figsize=(12, 8))\n",
        "numeric_cols = df.select_dtypes(include=[np.number]).columns\n",
        "correlation_matrix = df[numeric_cols].corr()\n",
        "sns.heatmap(correlation_matrix, annot=True, cmap='coolwarm', center=0, fmt='.2f')\n",
        "plt.title('Feature Correlation Matrix')\n",
        "plt.tight_layout()\n",
        "plt.show()"
      ]
    },
    {
      "cell_type": "code",
      "execution_count": null,
      "metadata": {
        "colab": {
          "base_uri": "https://localhost:8080/",
          "height": 663
        },
        "id": "4FSQGyG6BHGY",
        "outputId": "bbcd5a00-09e3-4a65-df04-5a32f79f2c3c"
      },
      "outputs": [
        {
          "data": {
            "image/png": "[encoded data removed]",
            "text/plain": [
              "<Figure size 1000x600 with 1 Axes>"
            ]
          },
          "metadata": {},
          "output_type": "display_data"
        }
      ],
      "source": [
        "# Missing values visualization\n",
        "missing_data = df.isnull().sum()\n",
        "missing_data = missing_data[missing_data > 0]\n",
        "if len(missing_data) > 0:\n",
        "    plt.figure(figsize=(10, 6))\n",
        "    missing_data.plot(kind='bar')\n",
        "    plt.title('Missing Values Distribution')\n",
        "    plt.ylabel('Number of Missing Values')\n",
        "    plt.show()\n"
      ]
    },
    {
      "cell_type": "code",
      "execution_count": null,
      "metadata": {
        "colab": {
          "base_uri": "https://localhost:8080/"
        },
        "id": "rpurGq-5BOXe",
        "outputId": "e059b8cf-94fd-42df-b25d-12b922daf3ea"
      },
      "outputs": [
        {
          "name": "stdout",
          "output_type": "stream",
          "text": [
            "\n",
            "==================================================\n",
            "STEP 6: DATA PREPARATION\n",
            "==================================================\n"
          ]
        }
      ],
      "source": [
        "# STEP 6: Prepare data for modeling\n",
        "print(\"\\n\" + \"=\"*50)\n",
        "print(\"STEP 6: DATA PREPARATION\")\n",
        "print(\"=\"*50)"
      ]
    },
    {
      "cell_type": "code",
      "execution_count": null,
      "metadata": {
        "colab": {
          "base_uri": "https://localhost:8080/"
        },
        "id": "YlToaClJBTrG",
        "outputId": "84fdcbcb-d274-46c6-8d59-49559dfbcf8c"
      },
      "outputs": [
        {
          "name": "stdout",
          "output_type": "stream",
          "text": [
            "Original features: ['age', 'income', 'debt_to_income_ratio', 'credit_history_length', 'number_of_credit_cards', 'missed_payments', 'credit_utilization', 'loan_amount', 'employment_length', 'housing_type', 'education_level']\n"
          ]
        }
      ],
      "source": [
        "# Separate features and target\n",
        "X = df.drop('creditworthy', axis=1)\n",
        "y = df['creditworthy']\n",
        "print(\"Original features:\", list(X.columns))"
      ]
    },
    {
      "cell_type": "code",
      "execution_count": null,
      "metadata": {
        "colab": {
          "base_uri": "https://localhost:8080/"
        },
        "id": "1jieeTByBdYU",
        "outputId": "c995adb1-45d7-436c-d8af-32aef8b18eb7"
      },
      "outputs": [
        {
          "name": "stdout",
          "output_type": "stream",
          "text": [
            "\n",
            "==================================================\n",
            "STEP 7: FEATURE ENGINEERING\n",
            "==================================================\n",
            "✅ Feature engineering completed!\n",
            "Total features after engineering: 17\n"
          ]
        }
      ],
      "source": [
        "# STEP 7: Feature Engineering\n",
        "print(\"\\n\" + \"=\"*50)\n",
        "print(\"STEP 7: FEATURE ENGINEERING\")\n",
        "print(\"=\"*50)\n",
        "\n",
        "X_engineered = X.copy()\n",
        "\n",
        "# Create new features\n",
        "X_engineered['income_to_loan_ratio'] = X_engineered['income'] / X_engineered['loan_amount']\n",
        "X_engineered['debt_burden'] = X_engineered['income'] * X_engineered['debt_to_income_ratio']\n",
        "X_engineered['credit_age_ratio'] = X_engineered['credit_history_length'] / X_engineered['age']\n",
        "X_engineered['payment_stability'] = 1 / (1 + X_engineered['missed_payments'])\n",
        "X_engineered['credit_utilization_risk'] = np.where(\n",
        "    X_engineered['credit_utilization'] > 0.7, 2,\n",
        "    np.where(X_engineered['credit_utilization'] > 0.3, 1, 0)\n",
        ")\n",
        "\n",
        "# Create age groups\n",
        "X_engineered['age_group'] = pd.cut(X_engineered['age'],\n",
        "                                  bins=[18, 25, 35, 45, 55, 65, 80],\n",
        "                                  labels=['18-25', '26-35', '36-45', '46-55', '56-65', '66+'])\n",
        "\n",
        "print(\"✅ Feature engineering completed!\")\n",
        "print(f\"Total features after engineering: {X_engineered.shape[1]}\")\n",
        "\n"
      ]
    },
    {
      "cell_type": "code",
      "execution_count": null,
      "metadata": {
        "colab": {
          "base_uri": "https://localhost:8080/"
        },
        "id": "OVxKhfEsBkui",
        "outputId": "4aed69e3-3447-4b68-c31d-7642174b6488"
      },
      "outputs": [
        {
          "name": "stdout",
          "output_type": "stream",
          "text": [
            "\n",
            "📋 Feature Types:\n",
            "Numeric features (14): ['age', 'income', 'debt_to_income_ratio', 'credit_history_length', 'number_of_credit_cards', 'missed_payments', 'credit_utilization', 'loan_amount', 'employment_length', 'income_to_loan_ratio', 'debt_burden', 'credit_age_ratio', 'payment_stability', 'credit_utilization_risk']\n",
            "Categorical features (3): ['housing_type', 'education_level', 'age_group']\n"
          ]
        }
      ],
      "source": [
        "# STEP 8: Identify feature types\n",
        "numeric_features = X_engineered.select_dtypes(include=['int64', 'float64']).columns.tolist()\n",
        "categorical_features = X_engineered.select_dtypes(include=['object', 'category']).columns.tolist()\n",
        "\n",
        "print(f\"\\n📋 Feature Types:\")\n",
        "print(f\"Numeric features ({len(numeric_features)}): {numeric_features}\")\n",
        "print(f\"Categorical features ({len(categorical_features)}): {categorical_features}\")\n"
      ]
    },
    {
      "cell_type": "code",
      "execution_count": null,
      "metadata": {
        "colab": {
          "base_uri": "https://localhost:8080/"
        },
        "id": "hKE5TbgfEhzS",
        "outputId": "01056762-c5b7-43c8-e05f-4950c9dffd18"
      },
      "outputs": [
        {
          "name": "stdout",
          "output_type": "stream",
          "text": [
            "\n",
            "==================================================\n",
            "STEP 9: PREPROCESSING PIPELINES\n",
            "==================================================\n"
          ]
        }
      ],
      "source": [
        "# STEP 9: Create preprocessing pipelines\n",
        "print(\"\\n\" + \"=\"*50)\n",
        "print(\"STEP 9: PREPROCESSING PIPELINES\")\n",
        "print(\"=\"*50)\n",
        "\n",
        "def create_preprocessing_pipelines(numeric_features, categorical_features):\n",
        "    # Strategy 1: Basic preprocessing\n",
        "    numeric_transformer_basic = Pipeline(steps=[\n",
        "        ('imputer', SimpleImputer(strategy='median')),\n",
        "        ('scaler', StandardScaler())\n",
        "    ])\n",
        "\n",
        "    categorical_transformer_basic = Pipeline(steps=[\n",
        "        ('imputer', SimpleImputer(strategy='most_frequent')),\n",
        "        ('onehot', OneHotEncoder(handle_unknown='ignore', sparse_output=False))\n",
        "    ])\n",
        "\n",
        "    preprocessor_basic = ColumnTransformer(\n",
        "        transformers=[\n",
        "            ('num', numeric_transformer_basic, numeric_features),\n",
        "            ('cat', categorical_transformer_basic, categorical_features)\n",
        "        ])\n",
        "\n",
        "    # Strategy 2: Advanced preprocessing\n",
        "    numeric_transformer_advanced = Pipeline(steps=[\n",
        "        ('imputer', KNNImputer(n_neighbors=5)),\n",
        "        ('scaler', RobustScaler()),\n",
        "        ('poly', PolynomialFeatures(degree=2, include_bias=False))\n",
        "    ])\n",
        "\n",
        "    categorical_transformer_advanced = Pipeline(steps=[\n",
        "        ('imputer', SimpleImputer(strategy='most_frequent')),\n",
        "        ('onehot', OneHotEncoder(handle_unknown='ignore', sparse_output=False))\n",
        "    ])\n",
        "\n",
        "    preprocessor_advanced = ColumnTransformer(\n",
        "        transformers=[\n",
        "            ('num', numeric_transformer_advanced, numeric_features),\n",
        "            ('cat', categorical_transformer_advanced, categorical_features)\n",
        "        ])\n",
        "\n",
        "    # Strategy 3: Minimal preprocessing (for tree-based models)\n",
        "    numeric_transformer_minimal = Pipeline(steps=[\n",
        "        ('imputer', SimpleImputer(strategy='median'))\n",
        "    ])\n",
        "\n",
        "    categorical_transformer_minimal = Pipeline(steps=[\n",
        "        ('imputer', SimpleImputer(strategy='most_frequent')),\n",
        "        ('onehot', OneHotEncoder(handle_unknown='ignore', sparse_output=False))\n",
        "    ])\n",
        "\n",
        "    preprocessor_minimal = ColumnTransformer(\n",
        "        transformers=[\n",
        "            ('num', numeric_transformer_minimal, numeric_features),\n",
        "            ('cat', categorical_transformer_minimal, categorical_features)\n",
        "        ])\n",
        "    return {\n",
        "        'basic': preprocessor_basic,\n",
        "        'advanced': preprocessor_advanced,\n",
        "        'minimal': preprocessor_minimal\n",
        "    }"
      ]
    },
    {
      "cell_type": "code",
      "execution_count": null,
      "metadata": {
        "colab": {
          "base_uri": "https://localhost:8080/"
        },
        "id": "NKpyx0wwB2rn",
        "outputId": "9198cf0c-56e8-4093-c712-cf2aa84d9ee5"
      },
      "outputs": [
        {
          "name": "stdout",
          "output_type": "stream",
          "text": [
            "\n",
            "==================================================\n",
            "STEP 10: DATA SPLITTING\n",
            "==================================================\n",
            "Training set: 7000 samples\n",
            "Test set: 3000 samples\n",
            "Positive class in training: 43.20%\n",
            "Positive class in test: 43.20%\n"
          ]
        }
      ],
      "source": [
        "# STEP 10: Split the data\n",
        "print(\"\\n\" + \"=\"*50)\n",
        "print(\"STEP 10: DATA SPLITTING\")\n",
        "print(\"=\"*50)\n",
        "\n",
        "X_train, X_test, y_train, y_test = train_test_split(\n",
        "    X_engineered, y, test_size=0.3, random_state=42, stratify=y\n",
        ")\n",
        "\n",
        "print(f\"Training set: {X_train.shape[0]} samples\")\n",
        "print(f\"Test set: {X_test.shape[0]} samples\")\n",
        "print(f\"Positive class in training: {y_train.mean():.2%}\")\n",
        "print(f\"Positive class in test: {y_test.mean():.2%}\")\n"
      ]
    },
    {
      "cell_type": "code",
      "execution_count": null,
      "metadata": {
        "colab": {
          "base_uri": "https://localhost:8080/"
        },
        "id": "Td2Pd_ZsDwXP",
        "outputId": "86b35115-02b6-41ee-d40a-fb6425dca6d3"
      },
      "outputs": [
        {
          "name": "stdout",
          "output_type": "stream",
          "text": [
            "\n",
            "==================================================\n",
            "STEP 11: MODEL DEFINITION\n",
            "==================================================\n",
            "✅ 9 classifiers defined!\n"
          ]
        }
      ],
      "source": [
        "# STEP 11: Define classifiers with optimal preprocessing\n",
        "print(\"\\n\" + \"=\"*50)\n",
        "print(\"STEP 11: MODEL DEFINITION\")\n",
        "print(\"=\"*50)\n",
        "\n",
        "classifiers = {\n",
        "    'Logistic Regression': {\n",
        "        'model': LogisticRegression(random_state=42, max_iter=1000, class_weight='balanced'),\n",
        "        'preprocessing': 'advanced'\n",
        "    },\n",
        "    'Decision Tree': {\n",
        "        'model': DecisionTreeClassifier(random_state=42, class_weight='balanced'),\n",
        "        'preprocessing': 'minimal'\n",
        "    },\n",
        "    'Random Forest': {\n",
        "        'model': RandomForestClassifier(random_state=42, class_weight='balanced', n_estimators=100),\n",
        "        'preprocessing': 'minimal'\n",
        "    },\n",
        "'Gradient Boosting': {\n",
        "        'model': GradientBoostingClassifier(random_state=42, n_estimators=100),\n",
        "        'preprocessing': 'minimal'\n",
        "    },\n",
        "    'XGBoost': {\n",
        "        'model': XGBClassifier(random_state=42, eval_metric='logloss',\n",
        "                              scale_pos_weight=len(y_train[y_train==0])/len(y_train[y_train==1])),\n",
        "        'preprocessing': 'minimal'\n",
        "    },\n",
        "    'SVM': {\n",
        "        'model': SVC(random_state=42, probability=True, class_weight='balanced'),\n",
        "        'preprocessing': 'advanced'\n",
        "    },\n",
        "    'K-Nearest Neighbors': {\n",
        "        'model': KNeighborsClassifier(n_neighbors=5),\n",
        "        'preprocessing': 'basic'\n",
        "    },\n",
        "    'Naive Bayes': {\n",
        "        'model': GaussianNB(),\n",
        "        'preprocessing': 'basic'\n",
        "    },\n",
        "'Neural Network': {\n",
        "        'model': MLPClassifier(random_state=42, max_iter=1000, hidden_layer_sizes=(100, 50)),\n",
        "        'preprocessing': 'advanced'\n",
        "    }\n",
        "}\n",
        "\n",
        "print(f\"✅ {len(classifiers)} classifiers defined!\")\n",
        "\n"
      ]
    },
    {
      "cell_type": "code",
      "execution_count": null,
      "metadata": {
        "colab": {
          "background_save": true,
          "base_uri": "https://localhost:8080/"
        },
        "id": "5d37116f",
        "outputId": "26543674-882f-4f97-fe6f-516a3cbc75e7"
      },
      "outputs": [
        {
          "name": "stdout",
          "output_type": "stream",
          "text": [
            "\n",
            "==================================================\n",
            "STEP 12: MODEL TRAINING AND EVALUATION\n",
            "==================================================\n",
            "\n",
            "🔧 Training Logistic Regression...\n",
            "✅ Logistic Regression completed:\n",
            "   Accuracy:  0.8570\n",
            "   Precision: 0.8157\n",
            "   Recall:    0.8642\n",
            "   F1-Score:  0.8393\n",
            "   ROC-AUC:   0.9269\n",
            "\n",
            "🔧 Training Decision Tree...\n",
            "✅ Decision Tree completed:\n",
            "   Accuracy:  0.8837\n",
            "   Precision: 0.8640\n",
            "   Recall:    0.8673\n",
            "   F1-Score:  0.8656\n",
            "   ROC-AUC:   0.8817\n",
            "\n",
            "🔧 Training Random Forest...\n",
            "✅ Random Forest completed:\n",
            "   Accuracy:  0.9113\n",
            "   Precision: 0.9055\n",
            "   Recall:    0.8873\n",
            "   F1-Score:  0.8963\n",
            "   ROC-AUC:   0.9700\n",
            "\n",
            "🔧 Training Gradient Boosting...\n",
            "✅ Gradient Boosting completed:\n",
            "   Accuracy:  0.9257\n",
            "   Precision: 0.9195\n",
            "   Recall:    0.9074\n",
            "   F1-Score:  0.9134\n",
            "   ROC-AUC:   0.9807\n",
            "\n",
            "🔧 Training XGBoost...\n",
            "✅ XGBoost completed:\n",
            "   Accuracy:  0.9237\n",
            "   Precision: 0.9113\n",
            "   Recall:    0.9120\n",
            "   F1-Score:  0.9117\n",
            "   ROC-AUC:   0.9790\n",
            "\n",
            "🔧 Training SVM...\n",
            "✅ SVM completed:\n",
            "   Accuracy:  0.7857\n",
            "   Precision: 0.8308\n",
            "   Recall:    0.6327\n",
            "   F1-Score:  0.7184\n",
            "   ROC-AUC:   0.8982\n",
            "\n",
            "🔧 Training K-Nearest Neighbors...\n",
            "✅ K-Nearest Neighbors completed:\n",
            "   Accuracy:  0.7843\n",
            "   Precision: 0.7645\n",
            "   Recall:    0.7238\n",
            "   F1-Score:  0.7436\n",
            "   ROC-AUC:   0.8517\n",
            "\n",
            "🔧 Training Naive Bayes...\n",
            "✅ Naive Bayes completed:\n",
            "   Accuracy:  0.7340\n",
            "   Precision: 0.8022\n",
            "   Recall:    0.5100\n",
            "   F1-Score:  0.6236\n",
            "   ROC-AUC:   0.8615\n",
            "\n",
            "🔧 Training Neural Network...\n",
            "✅ Neural Network completed:\n",
            "   Accuracy:  0.8423\n",
            "   Precision: 0.8092\n",
            "   Recall:    0.8310\n",
            "   F1-Score:  0.8199\n",
            "   ROC-AUC:   0.9164\n"
          ]
        }
      ],
      "source": [
        "# STEP 12: Train and evaluate models\n",
        "print(\"\\n\" + \"=\"*50)\n",
        "print(\"STEP 12: MODEL TRAINING AND EVALUATION\")\n",
        "print(\"=\"*50)\n",
        "\n",
        "results = {}\n",
        "\n",
        "# Get preprocessing strategies\n",
        "preprocessing_strategies = create_preprocessing_pipelines(numeric_features, categorical_features)\n",
        "\n",
        "\n",
        "for name, config in classifiers.items():\n",
        "    print(f\"\\n🔧 Training {name}...\")\n",
        "\n",
        "    # Get the appropriate preprocessor\n",
        "    preprocessor = preprocessing_strategies[config['preprocessing']]\n",
        "\n",
        "    # Create pipeline\n",
        "    pipeline = Pipeline(steps=[\n",
        "        ('preprocessor', preprocessor),\n",
        "        ('classifier', config['model'])\n",
        "    ])\n",
        "\n",
        "    # Train model\n",
        "    pipeline.fit(X_train, y_train)\n",
        "\n",
        "    # Make predictions\n",
        "    y_pred = pipeline.predict(X_test)\n",
        "    y_pred_proba = pipeline.predict_proba(X_test)[:, 1]\n",
        "\n",
        "    # Calculate metrics\n",
        "    results[name] = {\n",
        "        'accuracy': accuracy_score(y_test, y_pred),\n",
        "        'precision': precision_score(y_test, y_pred),\n",
        "        'recall': recall_score(y_test, y_pred),\n",
        "        'f1_score': f1_score(y_test, y_pred),\n",
        "        'roc_auc': roc_auc_score(y_test, y_pred_proba),\n",
        "        'preprocessing': config['preprocessing']\n",
        "    }\n",
        "\n",
        "    print(f\"✅ {name} completed:\")\n",
        "    print(f\"   Accuracy:  {results[name]['accuracy']:.4f}\")\n",
        "    print(f\"   Precision: {results[name]['precision']:.4f}\")\n",
        "    print(f\"   Recall:    {results[name]['recall']:.4f}\")\n",
        "    print(f\"   F1-Score:  {results[name]['f1_score']:.4f}\")\n",
        "    print(f\"   ROC-AUC:   {results[name]['roc_auc']:.4f}\")"
      ]
    },
    {
      "cell_type": "code",
      "execution_count": null,
      "metadata": {
        "colab": {
          "background_save": true
        },
        "id": "o8Uz29hCFt8j",
        "outputId": "920cbdb0-e04d-4ba7-842f-aa0c6e929a32"
      },
      "outputs": [
        {
          "name": "stdout",
          "output_type": "stream",
          "text": [
            "\n",
            "==================================================\n",
            "STEP 13: MODEL COMPARISON\n",
            "==================================================\n",
            "🏆 Model Performance Ranking (by ROC-AUC):\n",
            "                     accuracy precision    recall  f1_score   roc_auc  \\\n",
            "Gradient Boosting    0.925667  0.919468  0.907407  0.913398  0.980711   \n",
            "XGBoost              0.923667  0.911334  0.912037  0.911685  0.978997   \n",
            "Random Forest        0.911333  0.905512  0.887346  0.896337  0.970018   \n",
            "Logistic Regression     0.857  0.815732  0.864198  0.839266  0.926937   \n",
            "Neural Network       0.842333  0.809166  0.831019  0.819947   0.91637   \n",
            "SVM                  0.785667    0.8308  0.632716  0.718353  0.898158   \n",
            "Decision Tree        0.883667  0.863951  0.867284  0.865614  0.881705   \n",
            "Naive Bayes             0.734  0.802184  0.510031  0.623585  0.861458   \n",
            "K-Nearest Neighbors  0.784333  0.764466  0.723765  0.743559  0.851658   \n",
            "\n",
            "                    preprocessing  \n",
            "Gradient Boosting         minimal  \n",
            "XGBoost                   minimal  \n",
            "Random Forest             minimal  \n",
            "Logistic Regression      advanced  \n",
            "Neural Network           advanced  \n",
            "SVM                      advanced  \n",
            "Decision Tree             minimal  \n",
            "Naive Bayes                 basic  \n",
            "K-Nearest Neighbors         basic  \n"
          ]
        }
      ],
      "source": [
        "# STEP 13: Compare model performance\n",
        "print(\"\\n\" + \"=\"*50)\n",
        "print(\"STEP 13: MODEL COMPARISON\")\n",
        "print(\"=\"*50)\n",
        "\n",
        "results_df = pd.DataFrame(results).T\n",
        "results_df = results_df.sort_values('roc_auc', ascending=False)\n",
        "\n",
        "print(\"🏆 Model Performance Ranking (by ROC-AUC):\")\n",
        "print(results_df.round(4))\n",
        "\n"
      ]
    },
    {
      "cell_type": "code",
      "execution_count": null,
      "metadata": {
        "id": "Byg0Wz31GWdH"
      },
      "outputs": [],
      "source": [
        "# STEP 14: Visualize results\n",
        "print(\"\\n\" + \"=\"*50)\n",
        "print(\"STEP 14: RESULTS VISUALIZATION\")\n",
        "print(\"=\"*50)\n",
        "\n",
        "# Create comprehensive visualization\n",
        "fig, axes = plt.subplots(2, 2, figsize=(15, 12))\n",
        "fig.suptitle('Credit Scoring Model Performance Comparison', fontsize=16, fontweight='bold')\n",
        "\n",
        "# 1. ROC-AUC Comparison\n",
        "axes[0,0].barh(results_df.index, results_df['roc_auc'], color='lightblue')\n",
        "axes[0,0].set_title('ROC-AUC Score Comparison')\n",
        "axes[0,0].set_xlabel('ROC-AUC Score')\n",
        "axes[0,0].axvline(x=0.5, color='red', linestyle='--', alpha=0.7)\n",
        "\n",
        "# 2. Precision-Recall-F1 Comparison\n",
        "metrics_plot = results_df[['precision', 'recall', 'f1_score']]\n",
        "metrics_plot.plot(kind='bar', ax=axes[0,1], color=['#ff9999', '#66b3ff', '#99ff99'])\n",
        "axes[0,1].set_title('Precision, Recall, and F1-Score Comparison')\n",
        "axes[0,1].set_ylabel('Score')\n",
        "axes[0,1].tick_params(axis='x', rotation=45)\n",
        "axes[0,1].legend(bbox_to_anchor=(1.05, 1), loc='upper left')\n",
        "\n",
        "# 3. ROC Curves for top models\n",
        "top_models = results_df.head(5).index\n",
        "for model_name in top_models:\n",
        "    pipeline = Pipeline(steps=[\n",
        "        ('preprocessor', preprocessing_strategies[classifiers[model_name]['preprocessing']]),\n",
        "        ('classifier', classifiers[model_name]['model'])\n",
        "    ])\n",
        "    pipeline.fit(X_train, y_train)\n",
        "    y_pred_proba = pipeline.predict_proba(X_test)[:, 1]\n",
        "\n",
        "    fpr, tpr, _ = roc_curve(y_test, y_pred_proba)\n",
        "    roc_auc = auc(fpr, tpr)\n",
        "\n",
        "axes[1,0].plot(fpr, tpr, label=f'{model_name} (AUC = {roc_auc:.3f})')\n",
        "axes[1,0].plot([0, 1], [0, 1], 'k--', alpha=0.5)\n",
        "axes[1,0].set_xlabel('False Positive Rate')\n",
        "axes[1,0].set_ylabel('True Positive Rate')\n",
        "axes[1,0].set_title('ROC Curves - Top 5 Models')\n",
        "axes[1,0].legend()\n",
        "axes[1,0].grid(True, alpha=0.3)\n",
        "\n",
        "\n"
      ]
    },
    {
      "cell_type": "code",
      "execution_count": null,
      "metadata": {
        "id": "1m3Sk10vGl3R"
      },
      "outputs": [],
      "source": [
        "# 4. Model accuracy by preprocessing strategy\n",
        "preprocessing_groups = results_df.groupby('preprocessing')['accuracy'].mean()\n",
        "axes[1,1].bar(preprocessing_groups.index, preprocessing_groups.values,\n",
        "             color=['skyblue', 'lightgreen', 'lightcoral'])\n",
        "axes[1,1].set_title('Average Accuracy by Preprocessing Strategy')\n",
        "axes[1,1].set_ylabel('Accuracy Score')\n",
        "\n",
        "plt.tight_layout()\n",
        "plt.show()\n"
      ]
    },
    {
      "cell_type": "code",
      "execution_count": null,
      "metadata": {
        "id": "pbF40iCjGoyb"
      },
      "outputs": [],
      "source": [
        "# STEP 15: Detailed analysis of best model\n",
        "print(\"\\n\" + \"=\"*50)\n",
        "print(\"STEP 15: BEST MODEL ANALYSIS\")\n",
        "print(\"=\"*50)\n",
        "\n",
        "best_model_name = results_df.index[0]\n",
        "best_model_config = classifiers[best_model_name]\n",
        "\n",
        "print(f\"🏆 BEST MODEL: {best_model_name}\")\n",
        "print(f\"   Preprocessing: {best_model_config['preprocessing']}\")\n",
        "print(f\"   ROC-AUC: {results_df.loc[best_model_name, 'roc_auc']:.4f}\")\n",
        "print(f\"   Accuracy: {results_df.loc[best_model_name, 'accuracy']:.4f}\")\n",
        "\n",
        "# Create best model pipeline\n",
        "best_pipeline = Pipeline(steps=[\n",
        "    ('preprocessor', preprocessing_strategies[best_model_config['preprocessing']]),\n",
        "    ('classifier', best_model_config['model'])\n",
        "])\n",
        "\n",
        "best_pipeline.fit(X_train, y_train)\n",
        "y_pred_best = best_pipeline.predict(X_test)\n",
        "\n",
        "# Classification report\n",
        "print(\"\\n📊 Classification Report:\")\n",
        "print(classification_report(y_test, y_pred_best))\n",
        "\n",
        "\n"
      ]
    },
    {
      "cell_type": "code",
      "execution_count": null,
      "metadata": {
        "id": "iCt2rQKbG3eg"
      },
      "outputs": [],
      "source": [
        "# Confusion Matrix\n",
        "plt.figure(figsize=(8, 6))\n",
        "cm = confusion_matrix(y_test, y_pred_best)\n",
        "sns.heatmap(cm, annot=True, fmt='d', cmap='Blues',\n",
        "            xticklabels=['Not Creditworthy', 'Creditworthy'],\n",
        "            yticklabels=['Not Creditworthy', 'Creditworthy'])\n",
        "plt.title(f'Confusion Matrix - {best_model_name}')\n",
        "plt.ylabel('Actual')\n",
        "plt.xlabel('Predicted')\n",
        "plt.show()\n"
      ]
    },
    {
      "cell_type": "code",
      "execution_count": null,
      "metadata": {
        "id": "sYwFc009G8Zk"
      },
      "outputs": [],
      "source": [
        "# STEP 16: Feature importance (if available)\n",
        "if hasattr(best_pipeline.named_steps['classifier'], 'feature_importances_'):\n",
        "    print(\"\\n\" + \"=\"*50)\n",
        "    print(\"STEP 16: FEATURE IMPORTANCE\")\n",
        "    print(\"=\"*50)\n",
        "\n",
        "    # Get feature names after preprocessing\n",
        "    preprocessor = best_pipeline.named_steps['preprocessor']\n",
        "    preprocessor.fit(X_train)\n",
        "    feature_names_after_preprocessing = preprocessor.get_feature_names_out()\n",
        "\n",
        "    importances = best_pipeline.named_steps['classifier'].feature_importances_\n",
        "    feature_imp_df = pd.DataFrame({\n",
        "        'feature': feature_names_after_preprocessing,\n",
        "        'importance': importances\n",
        "    }).sort_values('importance', ascending=False)\n",
        "    print(\"Top 10 Most Important Features:\")\n",
        "    print(feature_imp_df.head(10))\n",
        "\n",
        "    # Plot feature importance\n",
        "    plt.figure(figsize=(10, 8))\n",
        "    top_features = feature_imp_df.head(10)\n",
        "    plt.barh(top_features['feature'], top_features['importance'])\n",
        "    plt.title(f'Top 10 Feature Importance - {best_model_name}')\n",
        "    plt.xlabel('Importance')\n",
        "    plt.gca().invert_yaxis()\n",
        "    plt.tight_layout()\n",
        "    plt.show()\n",
        "\n",
        "\n"
      ]
    },
    {
      "cell_type": "code",
      "execution_count": null,
      "metadata": {
        "id": "YWfVxvPSHJ7b"
      },
      "outputs": [],
      "source": [
        "# STEP 17: Advanced techniques\n",
        "print(\"\\n\" + \"=\"*50)\n",
        "print(\"STEP 17: ADVANCED TECHNIQUES\")\n",
        "print(\"=\"*50)\n",
        "\n",
        "# Model calibration\n",
        "print(\"🔧 Applying model calibration...\")\n",
        "calibrated_pipeline = Pipeline(steps=[\n",
        "    ('preprocessor', preprocessing_strategies[best_model_config['preprocessing']]),\n",
        "    ('classifier', CalibratedClassifierCV(best_model_config['model'], cv=3))\n",
        "])\n",
        "calibrated_pipeline.fit(X_train, y_train)\n",
        "y_pred_proba_calibrated = calibrated_pipeline.predict_proba(X_test)[:, 1]\n",
        "calibrated_auc = roc_auc_score(y_test, y_pred_proba_calibrated)\n",
        "\n",
        "print(f\"Original {best_model_name} ROC-AUC: {results_df.loc[best_model_name, 'roc_auc']:.4f}\")\n",
        "print(f\"Calibrated {best_model_name} ROC-AUC: {calibrated_auc:.4f}\")\n",
        "\n",
        "\n"
      ]
    },
    {
      "cell_type": "code",
      "execution_count": null,
      "metadata": {
        "id": "spBbLmQHHR0r"
      },
      "outputs": [],
      "source": [
        "# STEP 18: Final recommendations\n",
        "print(\"\\n\" + \"=\"*50)\n",
        "print(\"STEP 18: FINAL RECOMMENDATIONS\")\n",
        "print(\"=\"*50)\n",
        "\n",
        "print(\"🎯 BUSINESS INSIGHTS:\")\n",
        "print(f\"1. Best performing model: {best_model_name}\")\n",
        "print(f\"2. Optimal preprocessing: {best_model_config['preprocessing']}\")\n",
        "print(f\"3. Model ROC-AUC: {results_df.loc[best_model_name, 'roc_auc']:.4f}\")\n",
        "\n",
        "print(\"\\n💡 RECOMMENDATIONS:\")\n",
        "print(\"1. Use tree-based models (Random Forest, XGBoost) for best performance\")\n",
        "print(\"2. Apply appropriate preprocessing for each algorithm type\")\n",
        "print(\"3. Focus on feature engineering for domain-specific insights\")\n",
        "print(\"4. Consider model calibration for better probability estimates\")\n",
        "print(\"5. Monitor model performance regularly in production\")\n",
        "print(\"\\n🚀 NEXT STEPS:\")\n",
        "print(\"1. Hyperparameter tuning for the best model\")\n",
        "print(\"2. Cross-validation for robust performance estimation\")\n",
        "print(\"3. Feature selection to improve interpretability\")\n",
        "print(\"4. Deployment with monitoring pipeline\")\n",
        "\n",
        "print(\"\\n\" + \"=\"*50)\n",
        "print(\"✅ CREDIT SCORING MODEL COMPLETED SUCCESSFULLY!\")\n",
        "print(\"=\"*50)\n",
        "print(f\"📊 Final Results:\")\n",
        "print(f\"   Best Model: {best_model_name}\")\n",
        "print(f\"   ROC-AUC: {results_df.loc[best_model_name, 'roc_auc']:.4f}\")\n",
        "print(f\"   Accuracy: {results_df.loc[best_model_name, 'accuracy']:.4f}\")\n",
        "print(f\"   Precision: {results_df.loc[best_model_name, 'precision']:.4f}\")\n",
        "print(f\"   Recall: {results_df.loc[best_model_name, 'recall']:.4f}\")\n"
      ]
    }
  ],
  "metadata": {
    "colab": {
      "provenance": [],
      "authorship_tag": "ABX9TyNUoHx9WsOeCtlmZslBtZA6",
      "include_colab_link": true
    },
    "kernelspec": {
      "display_name": "Python 3",
      "name": "python3"
    },
    "language_info": {
      "name": "python"
    }
  },
  "nbformat": 4,
  "nbformat_minor": 0
}